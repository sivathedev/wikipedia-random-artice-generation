{
 "cells": [
  {
   "cell_type": "code",
   "execution_count": 2,
   "metadata": {},
   "outputs": [
    {
     "name": "stdout",
     "output_type": "stream",
     "text": [
      " Wanna feed your brain with this article? \n",
      " Type 'yes' or press any key for no. \n",
      " Topic: Monorail camerano\n",
      "Oops!! Come back again, we'll serve you with another interesting article! :(\n",
      " Wanna feed your brain with this article? \n",
      " Type 'yes' or press any key for no. \n",
      " Topic: Sioux, Wisconsinyes\n",
      "\n",
      " A short summary for you, Happy reading ! --------------\n",
      "\n",
      " Sioux is an unincorporated community located in the town of Bayview, Bayfield County, Wisconsin, United States.This community was named after the Sioux people.\n",
      " Wish to learn more about this article? \n",
      " (If yes, You will be redirected to wikipedia in browser) \n",
      " Type 'yes' or any key for noyes\n"
     ]
    }
   ],
   "source": [
    "import wikipedia\n",
    "import webbrowser\n",
    "import random\n",
    "\n",
    "def search():\n",
    "    wpage=wikipedia.random(1)\n",
    "    wwpage=wikipedia.random(1)\n",
    "    load=wikipedia.page(wpage)\n",
    "    x=input(\" Wanna feed your brain with this article? \\n Type 'yes' or press any key for no. \\n Topic: {}\".format(wpage))\n",
    "   \n",
    "    if x==\"yes\":\n",
    "        print(\"\\n A short summary for you, Happy reading ! --------------\\n\\n \"+wikipedia.summary(wpage))\n",
    "        y=input(\" Wish to learn more about this article? \\n (If yes, You will be redirected to wikipedia in browser) \\n Type 'yes' or any key for no\")\n",
    "        if y==\"yes\":\n",
    "             webbrowser.open(load.url,new=2)\n",
    "        else:\n",
    "            search()\n",
    "        exit(0)\n",
    "    else:\n",
    "        print(\"Oops!! Come back again, we'll serve you with another interesting article! :(\")\n",
    "        search()\n",
    "search()\n"
   ]
  },
  {
   "cell_type": "code",
   "execution_count": null,
   "metadata": {},
   "outputs": [],
   "source": []
  },
  {
   "cell_type": "code",
   "execution_count": null,
   "metadata": {},
   "outputs": [],
   "source": []
  }
 ],
 "metadata": {
  "kernelspec": {
   "display_name": "Python 3",
   "language": "python",
   "name": "python3"
  },
  "language_info": {
   "codemirror_mode": {
    "name": "ipython",
    "version": 3
   },
   "file_extension": ".py",
   "mimetype": "text/x-python",
   "name": "python",
   "nbconvert_exporter": "python",
   "pygments_lexer": "ipython3",
   "version": "3.8.3"
  }
 },
 "nbformat": 4,
 "nbformat_minor": 4
}
